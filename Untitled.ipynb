{
 "cells": [
  {
   "cell_type": "code",
   "execution_count": 9,
   "metadata": {},
   "outputs": [
    {
     "data": {
      "text/plain": [
       "sympy.matrices.dense.MutableDenseMatrix"
      ]
     },
     "execution_count": 9,
     "metadata": {},
     "output_type": "execute_result"
    }
   ],
   "source": [
    "from sympy import *\n",
    "init_printing()\n",
    "var('G r u v a x y r1 r2 r3 ')\n",
    "var('x11 x12  x13 x21 x22 x23 x31 x32 x33')\n",
    "\n",
    "import numpy as np\n",
    "arr1 = []\n",
    "\n",
    "r = Matrix([r1, r2, r3])\n",
    "x = Matrix([[x11, x12, x13], [x21, x22, x23],[x31, x32, x33]])\n",
    "rt = r.T\n",
    "rt\n",
    "G = rt * x\n",
    "for i in range(0,3):\n",
    "    arr1.append(G.diff(r[i]))\n",
    "arr1"
   ]
  },
  {
   "cell_type": "code",
   "execution_count": null,
   "metadata": {},
   "outputs": [],
   "source": [
    "pprint(r.T)\n",
    "pprint(x)"
   ]
  },
  {
   "cell_type": "code",
   "execution_count": null,
   "metadata": {},
   "outputs": [],
   "source": [
    "# a = x**2*(y-1)\n",
    "# r = Matrix([[a,a],[a,a]])\n",
    "1/(1+exp(-(rt * x)))\n",
    "# r*u"
   ]
  }
 ],
 "metadata": {
  "kernelspec": {
   "display_name": "Python 3",
   "language": "python",
   "name": "python3"
  },
  "language_info": {
   "codemirror_mode": {
    "name": "ipython",
    "version": 3
   },
   "file_extension": ".py",
   "mimetype": "text/x-python",
   "name": "python",
   "nbconvert_exporter": "python",
   "pygments_lexer": "ipython3",
   "version": "3.6.4"
  }
 },
 "nbformat": 4,
 "nbformat_minor": 2
}
