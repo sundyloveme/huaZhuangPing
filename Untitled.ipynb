{
 "cells": [
  {
   "cell_type": "code",
   "execution_count": 22,
   "metadata": {},
   "outputs": [
    {
     "data": {
      "text/latex": [
       "$$\\left[\\begin{matrix}8 u & 8 u\\\\8 u & 8 u\\end{matrix}\\right]$$"
      ],
      "text/plain": [
       "⎡8⋅u  8⋅u⎤\n",
       "⎢        ⎥\n",
       "⎣8⋅u  8⋅u⎦"
      ]
     },
     "execution_count": 22,
     "metadata": {},
     "output_type": "execute_result"
    }
   ],
   "source": [
    "from sympy import *\n",
    "init_printing()\n",
    "var('u v a x y')\n",
    "\n",
    "x = 2\n",
    "y = 3\n",
    "\n",
    "a = x**2*(y-1)\n",
    "r = Matrix([[a,a],[a,a]])\n",
    "\n",
    "r*u"
   ]
  },
  {
   "cell_type": "code",
   "execution_count": null,
   "metadata": {},
   "outputs": [],
   "source": []
  }
 ],
 "metadata": {
  "kernelspec": {
   "display_name": "Python 3",
   "language": "python",
   "name": "python3"
  },
  "language_info": {
   "codemirror_mode": {
    "name": "ipython",
    "version": 3
   },
   "file_extension": ".py",
   "mimetype": "text/x-python",
   "name": "python",
   "nbconvert_exporter": "python",
   "pygments_lexer": "ipython3",
   "version": "3.6.4"
  }
 },
 "nbformat": 4,
 "nbformat_minor": 2
}
