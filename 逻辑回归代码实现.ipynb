{
 "cells": [
  {
   "cell_type": "code",
   "execution_count": 1,
   "metadata": {},
   "outputs": [],
   "source": [
    "from numpy import *\n",
    "import matplotlib.pyplot as plt\n",
    "\n",
    "# 导入数据集 代码来自《机器学习实战》\n",
    "def loadDataSet():\n",
    "    dataMat = []; labelMat = []\n",
    "    fr = open('testSet.txt')\n",
    "    for line in fr.readlines():\n",
    "        lineArr = line.strip().split()\n",
    "        dataMat.append([1.0, float(lineArr[0]), float(lineArr[1])])\n",
    "        labelMat.append(int(lineArr[2]))\n",
    "    return dataMat,labelMat\n",
    "\n",
    "# s函数\n",
    "def sigmoid(inX):\n",
    "    return 1.0/(1+exp(-inX))\n",
    "\n",
    "# 求解权重是的多少 就是求解a1，a2,a3是多少\n",
    "def gradAscent(dataMatIn, classLabels):\n",
    "    X = mat(dataMatIn)             # x 特征矩阵              #convert to NumPy matrix \n",
    "    y = mat(classLabels).transpose() # y 类别1 或是 类别0      #convert to NumPy matrix\n",
    "    m,n = shape(X)\n",
    "    r = ones((n,1)) # 要求解的权重值 先全部设定为1 就是a向量全是1\n",
    "    a = 0.001       # 这里的a指的是学习率 Alpha \n",
    "    time = 1000           # 梯度下降的次数\n",
    "    \n",
    "    # 步骤见印象笔记\n",
    "    for i in range(0, time):\n",
    "        A=X*r\n",
    "        e = sigmoid(A) - y\n",
    "        r = r - a*X.transpose()*e\n",
    "    return r"
   ]
  },
  {
   "cell_type": "code",
   "execution_count": 2,
   "metadata": {},
   "outputs": [],
   "source": [
    "X, y=loadDataSet()\n",
    "weights = gradAscent(X, y)"
   ]
  },
  {
   "cell_type": "code",
   "execution_count": 3,
   "metadata": {},
   "outputs": [],
   "source": [
    "import pandas as pd\n",
    "import matplotlib.pyplot as plt\n",
    "import numpy as np\n",
    "testSet=pd.read_csv(\"testSet.txt\", delimiter=\"\\t\", names=[\"x\", \"y\",\"yes/no\"])\n",
    "testSetIsOne = testSet[testSet[\"yes/no\"] == 1]\n",
    "testSetIsZero = testSet[testSet[\"yes/no\"] == 0]"
   ]
  },
  {
   "cell_type": "code",
   "execution_count": 4,
   "metadata": {},
   "outputs": [
    {
     "data": {
      "text/plain": [
       "[<matplotlib.lines.Line2D at 0x26bc738f3c8>]"
      ]
     },
     "execution_count": 4,
     "metadata": {},
     "output_type": "execute_result"
    },
    {
     "data": {
      "image/png": "[encoded data removed]",
      "text/plain": [
       "<matplotlib.figure.Figure at 0x26bc731b8d0>"
      ]
     },
     "metadata": {},
     "output_type": "display_data"
    }
   ],
   "source": [
    "# 为画出直线做准备\n",
    "w=weights.getA()\n",
    "x1 = arange(-3,3,0.1)\n",
    "x2=-1*(w[0] + x1 * w[1])*(1/w[2]) # 直线方程是 a0*x0+a1*x1+a2*x2=0 \n",
    "plt.scatter(testSetIsOne[\"x\"], testSetIsOne[\"y\"], c=\"g\")\n",
    "plt.scatter(testSetIsZero[\"x\"], testSetIsZero[\"y\"], c=\"r\")\n",
    "plt.plot(x1,x2)"
   ]
  }
 ],
 "metadata": {
  "kernelspec": {
   "display_name": "Python 3",
   "language": "python",
   "name": "python3"
  },
  "language_info": {
   "codemirror_mode": {
    "name": "ipython",
    "version": 3
   },
   "file_extension": ".py",
   "mimetype": "text/x-python",
   "name": "python",
   "nbconvert_exporter": "python",
   "pygments_lexer": "ipython3",
   "version": "3.6.4"
  }
 },
 "nbformat": 4,
 "nbformat_minor": 2
}
