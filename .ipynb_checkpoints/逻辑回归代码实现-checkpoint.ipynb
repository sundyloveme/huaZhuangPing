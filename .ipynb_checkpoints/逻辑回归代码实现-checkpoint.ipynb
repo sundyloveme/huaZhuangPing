{
 "cells": [
  {
   "cell_type": "code",
   "execution_count": 123,
   "metadata": {},
   "outputs": [],
   "source": [
    "from numpy import *\n",
    "\n",
    "def loadDataSet():\n",
    "    dataMat = []; labelMat = []\n",
    "    fr = open('testSet.txt')\n",
    "    for line in fr.readlines():\n",
    "        lineArr = line.strip().split()\n",
    "        dataMat.append([1.0, float(lineArr[0]), float(lineArr[1])])\n",
    "        labelMat.append(int(lineArr[2]))\n",
    "    return dataMat,labelMat\n",
    "\n",
    "def sigmoid(inX):\n",
    "    return 1.0/(1+exp(-inX))\n",
    "\n",
    "# 求解权重是的多少\n",
    "def gradAscent(dataMatIn, classLabels):\n",
    "    X = mat(dataMatIn)             # x 特征矩阵              #convert to NumPy matrix \n",
    "    y = mat(classLabels).transpose() # y 类别1 或是 类别0      #convert to NumPy matrix\n",
    "    m,n = shape(X)\n",
    "    r = ones((n,1)) # 要求解的权重值 先全部设定为1\n",
    "    a = 0.001\n",
    "    time = 5           # 梯度下降的次数\n",
    "    \n",
    "    for i in range(0, time):\n",
    "        A=X*r\n",
    "        e = sigmoid(A) - y\n",
    "        r = r - a*X.transpose()*e\n",
    "    return r"
   ]
  },
  {
   "cell_type": "code",
   "execution_count": 121,
   "metadata": {},
   "outputs": [
    {
     "ename": "ValueError",
     "evalue": "shapes (3,1) and (100,3) not aligned: 1 (dim 1) != 100 (dim 0)",
     "output_type": "error",
     "traceback": [
      "\u001b[1;31m---------------------------------------------------------------------------\u001b[0m",
      "\u001b[1;31mValueError\u001b[0m                                Traceback (most recent call last)",
      "\u001b[1;32m<ipython-input-121-4bdaa9810958>\u001b[0m in \u001b[0;36m<module>\u001b[1;34m()\u001b[0m\n\u001b[0;32m      1\u001b[0m \u001b[0mdataArr\u001b[0m\u001b[1;33m,\u001b[0m \u001b[0mlabelMat\u001b[0m \u001b[1;33m=\u001b[0m \u001b[0mloadDataSet\u001b[0m\u001b[1;33m(\u001b[0m\u001b[1;33m)\u001b[0m\u001b[1;33m\u001b[0m\u001b[0m\n\u001b[0;32m      2\u001b[0m \u001b[0mmat\u001b[0m\u001b[1;33m(\u001b[0m\u001b[0mlabelMat\u001b[0m\u001b[1;33m)\u001b[0m\u001b[1;33m.\u001b[0m\u001b[0mtranspose\u001b[0m\u001b[1;33m(\u001b[0m\u001b[1;33m)\u001b[0m\u001b[1;33m\u001b[0m\u001b[0m\n\u001b[1;32m----> 3\u001b[1;33m \u001b[0mones\u001b[0m\u001b[1;33m(\u001b[0m\u001b[1;33m(\u001b[0m\u001b[1;36m3\u001b[0m\u001b[1;33m,\u001b[0m\u001b[1;36m1\u001b[0m\u001b[1;33m)\u001b[0m\u001b[1;33m)\u001b[0m\u001b[1;33m*\u001b[0m\u001b[0mmat\u001b[0m\u001b[1;33m(\u001b[0m\u001b[0mdataArr\u001b[0m\u001b[1;33m)\u001b[0m\u001b[1;33m\u001b[0m\u001b[0m\n\u001b[0m",
      "\u001b[1;32mD:\\Anaconda\\lib\\site-packages\\numpy\\matrixlib\\defmatrix.py\u001b[0m in \u001b[0;36m__rmul__\u001b[1;34m(self, other)\u001b[0m\n\u001b[0;32m    313\u001b[0m \u001b[1;33m\u001b[0m\u001b[0m\n\u001b[0;32m    314\u001b[0m     \u001b[1;32mdef\u001b[0m \u001b[0m__rmul__\u001b[0m\u001b[1;33m(\u001b[0m\u001b[0mself\u001b[0m\u001b[1;33m,\u001b[0m \u001b[0mother\u001b[0m\u001b[1;33m)\u001b[0m\u001b[1;33m:\u001b[0m\u001b[1;33m\u001b[0m\u001b[0m\n\u001b[1;32m--> 315\u001b[1;33m         \u001b[1;32mreturn\u001b[0m \u001b[0mN\u001b[0m\u001b[1;33m.\u001b[0m\u001b[0mdot\u001b[0m\u001b[1;33m(\u001b[0m\u001b[0mother\u001b[0m\u001b[1;33m,\u001b[0m \u001b[0mself\u001b[0m\u001b[1;33m)\u001b[0m\u001b[1;33m\u001b[0m\u001b[0m\n\u001b[0m\u001b[0;32m    316\u001b[0m \u001b[1;33m\u001b[0m\u001b[0m\n\u001b[0;32m    317\u001b[0m     \u001b[1;32mdef\u001b[0m \u001b[0m__imul__\u001b[0m\u001b[1;33m(\u001b[0m\u001b[0mself\u001b[0m\u001b[1;33m,\u001b[0m \u001b[0mother\u001b[0m\u001b[1;33m)\u001b[0m\u001b[1;33m:\u001b[0m\u001b[1;33m\u001b[0m\u001b[0m\n",
      "\u001b[1;31mValueError\u001b[0m: shapes (3,1) and (100,3) not aligned: 1 (dim 1) != 100 (dim 0)"
     ]
    }
   ],
   "source": [
    "dataArr, labelMat = loadDataSet()\n",
    "X = mat(dataArr)             # x 特征矩阵              #convert to NumPy matrix \n",
    "y = mat(classLabels).transpose() # y 类别1 或是 类别0      #convert to NumPy matrix\n",
    "m,n = shape(X)\n",
    "r = ones((n,1)) # 要求解的权重值 先全部设定为1"
   ]
  },
  {
   "cell_type": "code",
   "execution_count": 103,
   "metadata": {},
   "outputs": [],
   "source": [
    "w=weights.getA()\n",
    "x1 = arange(-3,3,0.1)\n",
    "x2=-1*(w[0] + x1 * w[1])*(1/w[2])"
   ]
  },
  {
   "cell_type": "code",
   "execution_count": 104,
   "metadata": {},
   "outputs": [
    {
     "data": {
      "text/plain": [
       "[<matplotlib.lines.Line2D at 0x1bd1018ff98>]"
      ]
     },
     "execution_count": 104,
     "metadata": {},
     "output_type": "execute_result"
    },
    {
     "data": {
      "image/png": "[encoded data removed]",
      "text/plain": [
       "<matplotlib.figure.Figure at 0x1bd0f32f7b8>"
      ]
     },
     "metadata": {},
     "output_type": "display_data"
    }
   ],
   "source": [
    "plt.scatter(testSetIsOne[\"x\"], testSetIsOne[\"y\"], c=\"g\")\n",
    "plt.scatter(testSetIsZero[\"x\"], testSetIsZero[\"y\"], c=\"r\")\n",
    "plt.plot(x1,x2)"
   ]
  },
  {
   "cell_type": "code",
   "execution_count": 105,
   "metadata": {},
   "outputs": [
    {
     "name": "stdout",
     "output_type": "stream",
     "text": [
      "\n",
      " is 1 \n",
      "            x         y  yes/no\n",
      "1  -1.395634  4.662541       1\n",
      "5   0.406704  7.067335       1\n",
      "7  -2.460150  6.866805       1\n",
      "10  0.850433  6.920334       1\n",
      "12  1.176813  3.167020       1\n",
      "\n",
      " is 0 \n",
      "           x          y  yes/no\n",
      "0 -0.017612  14.053064       0\n",
      "2 -0.752157   6.538620       0\n",
      "3 -1.322371   7.152853       0\n",
      "4  0.423363  11.054677       0\n",
      "6  0.667394  12.741452       0\n"
     ]
    }
   ],
   "source": [
    "#testSetIsOne \n",
    "testSetIsOne = testSet[testSet[\"yes/no\"] == 1]\n",
    "testSetIsZero = testSet[testSet[\"yes/no\"] == 0]\n",
    "print(\"\\n is 1 \\n\",testSetIsOne.head(5))\n",
    "print(\"\\n is 0 \\n\",testSetIsZero.head(5))"
   ]
  },
  {
   "cell_type": "code",
   "execution_count": 106,
   "metadata": {},
   "outputs": [
    {
     "data": {
      "text/html": [
       "<div>\n",
       "<style scoped>\n",
       "    .dataframe tbody tr th:only-of-type {\n",
       "        vertical-align: middle;\n",
       "    }\n",
       "\n",
       "    .dataframe tbody tr th {\n",
       "        vertical-align: top;\n",
       "    }\n",
       "\n",
       "    .dataframe thead th {\n",
       "        text-align: right;\n",
       "    }\n",
       "</style>\n",
       "<table border=\"1\" class=\"dataframe\">\n",
       "  <thead>\n",
       "    <tr style=\"text-align: right;\">\n",
       "      <th></th>\n",
       "      <th>x</th>\n",
       "      <th>y</th>\n",
       "      <th>yes/no</th>\n",
       "    </tr>\n",
       "  </thead>\n",
       "  <tbody>\n",
       "    <tr>\n",
       "      <th>0</th>\n",
       "      <td>-0.017612</td>\n",
       "      <td>14.053064</td>\n",
       "      <td>0</td>\n",
       "    </tr>\n",
       "    <tr>\n",
       "      <th>1</th>\n",
       "      <td>-1.395634</td>\n",
       "      <td>4.662541</td>\n",
       "      <td>1</td>\n",
       "    </tr>\n",
       "    <tr>\n",
       "      <th>2</th>\n",
       "      <td>-0.752157</td>\n",
       "      <td>6.538620</td>\n",
       "      <td>0</td>\n",
       "    </tr>\n",
       "    <tr>\n",
       "      <th>3</th>\n",
       "      <td>-1.322371</td>\n",
       "      <td>7.152853</td>\n",
       "      <td>0</td>\n",
       "    </tr>\n",
       "    <tr>\n",
       "      <th>4</th>\n",
       "      <td>0.423363</td>\n",
       "      <td>11.054677</td>\n",
       "      <td>0</td>\n",
       "    </tr>\n",
       "    <tr>\n",
       "      <th>5</th>\n",
       "      <td>0.406704</td>\n",
       "      <td>7.067335</td>\n",
       "      <td>1</td>\n",
       "    </tr>\n",
       "    <tr>\n",
       "      <th>6</th>\n",
       "      <td>0.667394</td>\n",
       "      <td>12.741452</td>\n",
       "      <td>0</td>\n",
       "    </tr>\n",
       "    <tr>\n",
       "      <th>7</th>\n",
       "      <td>-2.460150</td>\n",
       "      <td>6.866805</td>\n",
       "      <td>1</td>\n",
       "    </tr>\n",
       "    <tr>\n",
       "      <th>8</th>\n",
       "      <td>0.569411</td>\n",
       "      <td>9.548755</td>\n",
       "      <td>0</td>\n",
       "    </tr>\n",
       "    <tr>\n",
       "      <th>9</th>\n",
       "      <td>-0.026632</td>\n",
       "      <td>10.427743</td>\n",
       "      <td>0</td>\n",
       "    </tr>\n",
       "  </tbody>\n",
       "</table>\n",
       "</div>"
      ],
      "text/plain": [
       "          x          y  yes/no\n",
       "0 -0.017612  14.053064       0\n",
       "1 -1.395634   4.662541       1\n",
       "2 -0.752157   6.538620       0\n",
       "3 -1.322371   7.152853       0\n",
       "4  0.423363  11.054677       0\n",
       "5  0.406704   7.067335       1\n",
       "6  0.667394  12.741452       0\n",
       "7 -2.460150   6.866805       1\n",
       "8  0.569411   9.548755       0\n",
       "9 -0.026632  10.427743       0"
      ]
     },
     "execution_count": 106,
     "metadata": {},
     "output_type": "execute_result"
    }
   ],
   "source": [
    "import pandas as pd\n",
    "import matplotlib.pyplot as plt\n",
    "import numpy as np\n",
    "testSet=pd.read_csv(\"testSet.txt\", delimiter=\"\\t\", names=[\"x\", \"y\",\"yes/no\"])\n",
    "testSet.head(10)"
   ]
  },
  {
   "cell_type": "code",
   "execution_count": 107,
   "metadata": {},
   "outputs": [
    {
     "ename": "SyntaxError",
     "evalue": "invalid syntax (<ipython-input-107-1bca9214c6f1>, line 7)",
     "output_type": "error",
     "traceback": [
      "\u001b[1;36m  File \u001b[1;32m\"<ipython-input-107-1bca9214c6f1>\"\u001b[1;36m, line \u001b[1;32m7\u001b[0m\n\u001b[1;33m    f = y*log(1/(1+exp(-1*(o*x))))+(1-y)log(1-(1/(1+exp(-1*(o*x)))))\u001b[0m\n\u001b[1;37m                                          ^\u001b[0m\n\u001b[1;31mSyntaxError\u001b[0m\u001b[1;31m:\u001b[0m invalid syntax\n"
     ]
    }
   ],
   "source": [
    "from sympy import *\n",
    "x=sympy.Symbol(\"x\")\n",
    "y=sympy.Symbol(\"y\")\n",
    "z=sympy.Symbol(\"z\")\n",
    "o=sympy.Symbol(\"o\")\n",
    "\n",
    "f = y*log(1/(1+exp(-1*(o*x))))+(1-y)log(1-(1/(1+exp(-1*(o*x)))))\n",
    "diff(f,x)"
   ]
  }
 ],
 "metadata": {
  "kernelspec": {
   "display_name": "Python 3",
   "language": "python",
   "name": "python3"
  },
  "language_info": {
   "codemirror_mode": {
    "name": "ipython",
    "version": 3
   },
   "file_extension": ".py",
   "mimetype": "text/x-python",
   "name": "python",
   "nbconvert_exporter": "python",
   "pygments_lexer": "ipython3",
   "version": "3.6.4"
  }
 },
 "nbformat": 4,
 "nbformat_minor": 2
}
